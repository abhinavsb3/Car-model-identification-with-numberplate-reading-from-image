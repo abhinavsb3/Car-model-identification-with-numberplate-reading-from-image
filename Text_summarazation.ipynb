{
  "nbformat": 4,
  "nbformat_minor": 0,
  "metadata": {
    "colab": {
      "name": "Text summarazation.ipynb",
      "provenance": [],
      "authorship_tag": "ABX9TyOO8981odGfUuPqk+bSzLqR",
      "include_colab_link": true
    },
    "kernelspec": {
      "name": "python3",
      "display_name": "Python 3"
    },
    "language_info": {
      "name": "python"
    },
    "accelerator": "GPU",
    "widgets": {
      "application/vnd.jupyter.widget-state+json": {
        "85e552ec6a8b42a799ddfe1f36867f81": {
          "model_module": "@jupyter-widgets/controls",
          "model_name": "HBoxModel",
          "model_module_version": "1.5.0",
          "state": {
            "_view_name": "HBoxView",
            "_dom_classes": [],
            "_model_name": "HBoxModel",
            "_view_module": "@jupyter-widgets/controls",
            "_model_module_version": "1.5.0",
            "_view_count": null,
            "_view_module_version": "1.5.0",
            "box_style": "",
            "layout": "IPY_MODEL_29aeb039fc4a4b819ede132bd5a01ee5",
            "_model_module": "@jupyter-widgets/controls",
            "children": [
              "IPY_MODEL_eced1059f2af45a1b756fbc564aa3acb",
              "IPY_MODEL_2bed0ca9c808454d8b8bfd2ff73582b5",
              "IPY_MODEL_24d3089be5f2443b838a81ed03618a3d"
            ]
          }
        },
        "29aeb039fc4a4b819ede132bd5a01ee5": {
          "model_module": "@jupyter-widgets/base",
          "model_name": "LayoutModel",
          "model_module_version": "1.2.0",
          "state": {
            "_view_name": "LayoutView",
            "grid_template_rows": null,
            "right": null,
            "justify_content": null,
            "_view_module": "@jupyter-widgets/base",
            "overflow": null,
            "_model_module_version": "1.2.0",
            "_view_count": null,
            "flex_flow": null,
            "width": null,
            "min_width": null,
            "border": null,
            "align_items": null,
            "bottom": null,
            "_model_module": "@jupyter-widgets/base",
            "top": null,
            "grid_column": null,
            "overflow_y": null,
            "overflow_x": null,
            "grid_auto_flow": null,
            "grid_area": null,
            "grid_template_columns": null,
            "flex": null,
            "_model_name": "LayoutModel",
            "justify_items": null,
            "grid_row": null,
            "max_height": null,
            "align_content": null,
            "visibility": null,
            "align_self": null,
            "height": null,
            "min_height": null,
            "padding": null,
            "grid_auto_rows": null,
            "grid_gap": null,
            "max_width": null,
            "order": null,
            "_view_module_version": "1.2.0",
            "grid_template_areas": null,
            "object_position": null,
            "object_fit": null,
            "grid_auto_columns": null,
            "margin": null,
            "display": null,
            "left": null
          }
        },
        "eced1059f2af45a1b756fbc564aa3acb": {
          "model_module": "@jupyter-widgets/controls",
          "model_name": "HTMLModel",
          "model_module_version": "1.5.0",
          "state": {
            "_view_name": "HTMLView",
            "style": "IPY_MODEL_dda8c8f32a1a433e9e271b7dab4cd8e8",
            "_dom_classes": [],
            "description": "",
            "_model_name": "HTMLModel",
            "placeholder": "​",
            "_view_module": "@jupyter-widgets/controls",
            "_model_module_version": "1.5.0",
            "value": "Downloading: 100%",
            "_view_count": null,
            "_view_module_version": "1.5.0",
            "description_tooltip": null,
            "_model_module": "@jupyter-widgets/controls",
            "layout": "IPY_MODEL_050f8d85a45848e090d181866a79d8af"
          }
        },
        "2bed0ca9c808454d8b8bfd2ff73582b5": {
          "model_module": "@jupyter-widgets/controls",
          "model_name": "FloatProgressModel",
          "model_module_version": "1.5.0",
          "state": {
            "_view_name": "ProgressView",
            "style": "IPY_MODEL_8414503d6d7949ca80c7a13c08b4eb65",
            "_dom_classes": [],
            "description": "",
            "_model_name": "FloatProgressModel",
            "bar_style": "success",
            "max": 1392,
            "_view_module": "@jupyter-widgets/controls",
            "_model_module_version": "1.5.0",
            "value": 1392,
            "_view_count": null,
            "_view_module_version": "1.5.0",
            "orientation": "horizontal",
            "min": 0,
            "description_tooltip": null,
            "_model_module": "@jupyter-widgets/controls",
            "layout": "IPY_MODEL_340e638a16eb48658252ad36b2179648"
          }
        },
        "24d3089be5f2443b838a81ed03618a3d": {
          "model_module": "@jupyter-widgets/controls",
          "model_name": "HTMLModel",
          "model_module_version": "1.5.0",
          "state": {
            "_view_name": "HTMLView",
            "style": "IPY_MODEL_d780cd39becc4e40a6be03e13caf2ce9",
            "_dom_classes": [],
            "description": "",
            "_model_name": "HTMLModel",
            "placeholder": "​",
            "_view_module": "@jupyter-widgets/controls",
            "_model_module_version": "1.5.0",
            "value": " 1.36k/1.36k [00:00&lt;00:00, 30.4kB/s]",
            "_view_count": null,
            "_view_module_version": "1.5.0",
            "description_tooltip": null,
            "_model_module": "@jupyter-widgets/controls",
            "layout": "IPY_MODEL_93302791686541df895feee2e6287978"
          }
        },
        "dda8c8f32a1a433e9e271b7dab4cd8e8": {
          "model_module": "@jupyter-widgets/controls",
          "model_name": "DescriptionStyleModel",
          "model_module_version": "1.5.0",
          "state": {
            "_view_name": "StyleView",
            "_model_name": "DescriptionStyleModel",
            "description_width": "",
            "_view_module": "@jupyter-widgets/base",
            "_model_module_version": "1.5.0",
            "_view_count": null,
            "_view_module_version": "1.2.0",
            "_model_module": "@jupyter-widgets/controls"
          }
        },
        "050f8d85a45848e090d181866a79d8af": {
          "model_module": "@jupyter-widgets/base",
          "model_name": "LayoutModel",
          "model_module_version": "1.2.0",
          "state": {
            "_view_name": "LayoutView",
            "grid_template_rows": null,
            "right": null,
            "justify_content": null,
            "_view_module": "@jupyter-widgets/base",
            "overflow": null,
            "_model_module_version": "1.2.0",
            "_view_count": null,
            "flex_flow": null,
            "width": null,
            "min_width": null,
            "border": null,
            "align_items": null,
            "bottom": null,
            "_model_module": "@jupyter-widgets/base",
            "top": null,
            "grid_column": null,
            "overflow_y": null,
            "overflow_x": null,
            "grid_auto_flow": null,
            "grid_area": null,
            "grid_template_columns": null,
            "flex": null,
            "_model_name": "LayoutModel",
            "justify_items": null,
            "grid_row": null,
            "max_height": null,
            "align_content": null,
            "visibility": null,
            "align_self": null,
            "height": null,
            "min_height": null,
            "padding": null,
            "grid_auto_rows": null,
            "grid_gap": null,
            "max_width": null,
            "order": null,
            "_view_module_version": "1.2.0",
            "grid_template_areas": null,
            "object_position": null,
            "object_fit": null,
            "grid_auto_columns": null,
            "margin": null,
            "display": null,
            "left": null
          }
        },
        "8414503d6d7949ca80c7a13c08b4eb65": {
          "model_module": "@jupyter-widgets/controls",
          "model_name": "ProgressStyleModel",
          "model_module_version": "1.5.0",
          "state": {
            "_view_name": "StyleView",
            "_model_name": "ProgressStyleModel",
            "description_width": "",
            "_view_module": "@jupyter-widgets/base",
            "_model_module_version": "1.5.0",
            "_view_count": null,
            "_view_module_version": "1.2.0",
            "bar_color": null,
            "_model_module": "@jupyter-widgets/controls"
          }
        },
        "340e638a16eb48658252ad36b2179648": {
          "model_module": "@jupyter-widgets/base",
          "model_name": "LayoutModel",
          "model_module_version": "1.2.0",
          "state": {
            "_view_name": "LayoutView",
            "grid_template_rows": null,
            "right": null,
            "justify_content": null,
            "_view_module": "@jupyter-widgets/base",
            "overflow": null,
            "_model_module_version": "1.2.0",
            "_view_count": null,
            "flex_flow": null,
            "width": null,
            "min_width": null,
            "border": null,
            "align_items": null,
            "bottom": null,
            "_model_module": "@jupyter-widgets/base",
            "top": null,
            "grid_column": null,
            "overflow_y": null,
            "overflow_x": null,
            "grid_auto_flow": null,
            "grid_area": null,
            "grid_template_columns": null,
            "flex": null,
            "_model_name": "LayoutModel",
            "justify_items": null,
            "grid_row": null,
            "max_height": null,
            "align_content": null,
            "visibility": null,
            "align_self": null,
            "height": null,
            "min_height": null,
            "padding": null,
            "grid_auto_rows": null,
            "grid_gap": null,
            "max_width": null,
            "order": null,
            "_view_module_version": "1.2.0",
            "grid_template_areas": null,
            "object_position": null,
            "object_fit": null,
            "grid_auto_columns": null,
            "margin": null,
            "display": null,
            "left": null
          }
        },
        "d780cd39becc4e40a6be03e13caf2ce9": {
          "model_module": "@jupyter-widgets/controls",
          "model_name": "DescriptionStyleModel",
          "model_module_version": "1.5.0",
          "state": {
            "_view_name": "StyleView",
            "_model_name": "DescriptionStyleModel",
            "description_width": "",
            "_view_module": "@jupyter-widgets/base",
            "_model_module_version": "1.5.0",
            "_view_count": null,
            "_view_module_version": "1.2.0",
            "_model_module": "@jupyter-widgets/controls"
          }
        },
        "93302791686541df895feee2e6287978": {
          "model_module": "@jupyter-widgets/base",
          "model_name": "LayoutModel",
          "model_module_version": "1.2.0",
          "state": {
            "_view_name": "LayoutView",
            "grid_template_rows": null,
            "right": null,
            "justify_content": null,
            "_view_module": "@jupyter-widgets/base",
            "overflow": null,
            "_model_module_version": "1.2.0",
            "_view_count": null,
            "flex_flow": null,
            "width": null,
            "min_width": null,
            "border": null,
            "align_items": null,
            "bottom": null,
            "_model_module": "@jupyter-widgets/base",
            "top": null,
            "grid_column": null,
            "overflow_y": null,
            "overflow_x": null,
            "grid_auto_flow": null,
            "grid_area": null,
            "grid_template_columns": null,
            "flex": null,
            "_model_name": "LayoutModel",
            "justify_items": null,
            "grid_row": null,
            "max_height": null,
            "align_content": null,
            "visibility": null,
            "align_self": null,
            "height": null,
            "min_height": null,
            "padding": null,
            "grid_auto_rows": null,
            "grid_gap": null,
            "max_width": null,
            "order": null,
            "_view_module_version": "1.2.0",
            "grid_template_areas": null,
            "object_position": null,
            "object_fit": null,
            "grid_auto_columns": null,
            "margin": null,
            "display": null,
            "left": null
          }
        },
        "e86a1d25bb794f7892e5c56da2f681af": {
          "model_module": "@jupyter-widgets/controls",
          "model_name": "HBoxModel",
          "model_module_version": "1.5.0",
          "state": {
            "_view_name": "HBoxView",
            "_dom_classes": [],
            "_model_name": "HBoxModel",
            "_view_module": "@jupyter-widgets/controls",
            "_model_module_version": "1.5.0",
            "_view_count": null,
            "_view_module_version": "1.5.0",
            "box_style": "",
            "layout": "IPY_MODEL_8c28159d33ff452ba2ba28619d8af86b",
            "_model_module": "@jupyter-widgets/controls",
            "children": [
              "IPY_MODEL_1a79c76820534da58ace7f5bdbf5829e",
              "IPY_MODEL_b6f22190a0d7422b977e1dd61ef26ccf",
              "IPY_MODEL_953560c11fa7484ca17390c244502fa0"
            ]
          }
        },
        "8c28159d33ff452ba2ba28619d8af86b": {
          "model_module": "@jupyter-widgets/base",
          "model_name": "LayoutModel",
          "model_module_version": "1.2.0",
          "state": {
            "_view_name": "LayoutView",
            "grid_template_rows": null,
            "right": null,
            "justify_content": null,
            "_view_module": "@jupyter-widgets/base",
            "overflow": null,
            "_model_module_version": "1.2.0",
            "_view_count": null,
            "flex_flow": null,
            "width": null,
            "min_width": null,
            "border": null,
            "align_items": null,
            "bottom": null,
            "_model_module": "@jupyter-widgets/base",
            "top": null,
            "grid_column": null,
            "overflow_y": null,
            "overflow_x": null,
            "grid_auto_flow": null,
            "grid_area": null,
            "grid_template_columns": null,
            "flex": null,
            "_model_name": "LayoutModel",
            "justify_items": null,
            "grid_row": null,
            "max_height": null,
            "align_content": null,
            "visibility": null,
            "align_self": null,
            "height": null,
            "min_height": null,
            "padding": null,
            "grid_auto_rows": null,
            "grid_gap": null,
            "max_width": null,
            "order": null,
            "_view_module_version": "1.2.0",
            "grid_template_areas": null,
            "object_position": null,
            "object_fit": null,
            "grid_auto_columns": null,
            "margin": null,
            "display": null,
            "left": null
          }
        },
        "1a79c76820534da58ace7f5bdbf5829e": {
          "model_module": "@jupyter-widgets/controls",
          "model_name": "HTMLModel",
          "model_module_version": "1.5.0",
          "state": {
            "_view_name": "HTMLView",
            "style": "IPY_MODEL_0758bad5b84846d487e59b97eddabd4d",
            "_dom_classes": [],
            "description": "",
            "_model_name": "HTMLModel",
            "placeholder": "​",
            "_view_module": "@jupyter-widgets/controls",
            "_model_module_version": "1.5.0",
            "value": "Downloading: 100%",
            "_view_count": null,
            "_view_module_version": "1.5.0",
            "description_tooltip": null,
            "_model_module": "@jupyter-widgets/controls",
            "layout": "IPY_MODEL_d5761fb663a2497291532f94e3029b4d"
          }
        },
        "b6f22190a0d7422b977e1dd61ef26ccf": {
          "model_module": "@jupyter-widgets/controls",
          "model_name": "FloatProgressModel",
          "model_module_version": "1.5.0",
          "state": {
            "_view_name": "ProgressView",
            "style": "IPY_MODEL_19ee703742194d6bbf000e82a7e8c6e2",
            "_dom_classes": [],
            "description": "",
            "_model_name": "FloatProgressModel",
            "bar_style": "success",
            "max": 2275329241,
            "_view_module": "@jupyter-widgets/controls",
            "_model_module_version": "1.5.0",
            "value": 2275329241,
            "_view_count": null,
            "_view_module_version": "1.5.0",
            "orientation": "horizontal",
            "min": 0,
            "description_tooltip": null,
            "_model_module": "@jupyter-widgets/controls",
            "layout": "IPY_MODEL_da2e0b3269f7449d8bbdc8b7c944d202"
          }
        },
        "953560c11fa7484ca17390c244502fa0": {
          "model_module": "@jupyter-widgets/controls",
          "model_name": "HTMLModel",
          "model_module_version": "1.5.0",
          "state": {
            "_view_name": "HTMLView",
            "style": "IPY_MODEL_c2b44c2d1f2a429b92760a5f3397ed57",
            "_dom_classes": [],
            "description": "",
            "_model_name": "HTMLModel",
            "placeholder": "​",
            "_view_module": "@jupyter-widgets/controls",
            "_model_module_version": "1.5.0",
            "value": " 2.12G/2.12G [01:05&lt;00:00, 36.1MB/s]",
            "_view_count": null,
            "_view_module_version": "1.5.0",
            "description_tooltip": null,
            "_model_module": "@jupyter-widgets/controls",
            "layout": "IPY_MODEL_39ad545ac7784d33a9acbc3d3d2f0ce7"
          }
        },
        "0758bad5b84846d487e59b97eddabd4d": {
          "model_module": "@jupyter-widgets/controls",
          "model_name": "DescriptionStyleModel",
          "model_module_version": "1.5.0",
          "state": {
            "_view_name": "StyleView",
            "_model_name": "DescriptionStyleModel",
            "description_width": "",
            "_view_module": "@jupyter-widgets/base",
            "_model_module_version": "1.5.0",
            "_view_count": null,
            "_view_module_version": "1.2.0",
            "_model_module": "@jupyter-widgets/controls"
          }
        },
        "d5761fb663a2497291532f94e3029b4d": {
          "model_module": "@jupyter-widgets/base",
          "model_name": "LayoutModel",
          "model_module_version": "1.2.0",
          "state": {
            "_view_name": "LayoutView",
            "grid_template_rows": null,
            "right": null,
            "justify_content": null,
            "_view_module": "@jupyter-widgets/base",
            "overflow": null,
            "_model_module_version": "1.2.0",
            "_view_count": null,
            "flex_flow": null,
            "width": null,
            "min_width": null,
            "border": null,
            "align_items": null,
            "bottom": null,
            "_model_module": "@jupyter-widgets/base",
            "top": null,
            "grid_column": null,
            "overflow_y": null,
            "overflow_x": null,
            "grid_auto_flow": null,
            "grid_area": null,
            "grid_template_columns": null,
            "flex": null,
            "_model_name": "LayoutModel",
            "justify_items": null,
            "grid_row": null,
            "max_height": null,
            "align_content": null,
            "visibility": null,
            "align_self": null,
            "height": null,
            "min_height": null,
            "padding": null,
            "grid_auto_rows": null,
            "grid_gap": null,
            "max_width": null,
            "order": null,
            "_view_module_version": "1.2.0",
            "grid_template_areas": null,
            "object_position": null,
            "object_fit": null,
            "grid_auto_columns": null,
            "margin": null,
            "display": null,
            "left": null
          }
        },
        "19ee703742194d6bbf000e82a7e8c6e2": {
          "model_module": "@jupyter-widgets/controls",
          "model_name": "ProgressStyleModel",
          "model_module_version": "1.5.0",
          "state": {
            "_view_name": "StyleView",
            "_model_name": "ProgressStyleModel",
            "description_width": "",
            "_view_module": "@jupyter-widgets/base",
            "_model_module_version": "1.5.0",
            "_view_count": null,
            "_view_module_version": "1.2.0",
            "bar_color": null,
            "_model_module": "@jupyter-widgets/controls"
          }
        },
        "da2e0b3269f7449d8bbdc8b7c944d202": {
          "model_module": "@jupyter-widgets/base",
          "model_name": "LayoutModel",
          "model_module_version": "1.2.0",
          "state": {
            "_view_name": "LayoutView",
            "grid_template_rows": null,
            "right": null,
            "justify_content": null,
            "_view_module": "@jupyter-widgets/base",
            "overflow": null,
            "_model_module_version": "1.2.0",
            "_view_count": null,
            "flex_flow": null,
            "width": null,
            "min_width": null,
            "border": null,
            "align_items": null,
            "bottom": null,
            "_model_module": "@jupyter-widgets/base",
            "top": null,
            "grid_column": null,
            "overflow_y": null,
            "overflow_x": null,
            "grid_auto_flow": null,
            "grid_area": null,
            "grid_template_columns": null,
            "flex": null,
            "_model_name": "LayoutModel",
            "justify_items": null,
            "grid_row": null,
            "max_height": null,
            "align_content": null,
            "visibility": null,
            "align_self": null,
            "height": null,
            "min_height": null,
            "padding": null,
            "grid_auto_rows": null,
            "grid_gap": null,
            "max_width": null,
            "order": null,
            "_view_module_version": "1.2.0",
            "grid_template_areas": null,
            "object_position": null,
            "object_fit": null,
            "grid_auto_columns": null,
            "margin": null,
            "display": null,
            "left": null
          }
        },
        "c2b44c2d1f2a429b92760a5f3397ed57": {
          "model_module": "@jupyter-widgets/controls",
          "model_name": "DescriptionStyleModel",
          "model_module_version": "1.5.0",
          "state": {
            "_view_name": "StyleView",
            "_model_name": "DescriptionStyleModel",
            "description_width": "",
            "_view_module": "@jupyter-widgets/base",
            "_model_module_version": "1.5.0",
            "_view_count": null,
            "_view_module_version": "1.2.0",
            "_model_module": "@jupyter-widgets/controls"
          }
        },
        "39ad545ac7784d33a9acbc3d3d2f0ce7": {
          "model_module": "@jupyter-widgets/base",
          "model_name": "LayoutModel",
          "model_module_version": "1.2.0",
          "state": {
            "_view_name": "LayoutView",
            "grid_template_rows": null,
            "right": null,
            "justify_content": null,
            "_view_module": "@jupyter-widgets/base",
            "overflow": null,
            "_model_module_version": "1.2.0",
            "_view_count": null,
            "flex_flow": null,
            "width": null,
            "min_width": null,
            "border": null,
            "align_items": null,
            "bottom": null,
            "_model_module": "@jupyter-widgets/base",
            "top": null,
            "grid_column": null,
            "overflow_y": null,
            "overflow_x": null,
            "grid_auto_flow": null,
            "grid_area": null,
            "grid_template_columns": null,
            "flex": null,
            "_model_name": "LayoutModel",
            "justify_items": null,
            "grid_row": null,
            "max_height": null,
            "align_content": null,
            "visibility": null,
            "align_self": null,
            "height": null,
            "min_height": null,
            "padding": null,
            "grid_auto_rows": null,
            "grid_gap": null,
            "max_width": null,
            "order": null,
            "_view_module_version": "1.2.0",
            "grid_template_areas": null,
            "object_position": null,
            "object_fit": null,
            "grid_auto_columns": null,
            "margin": null,
            "display": null,
            "left": null
          }
        }
      }
    }
  },
  "cells": [
    {
      "cell_type": "markdown",
      "metadata": {
        "id": "view-in-github",
        "colab_type": "text"
      },
      "source": [
        "<a href=\"https://colab.research.google.com/github/abhinavsb3/Car-model-identification-with-numberplate-reading-from-image/blob/main/Text_summarazation.ipynb\" target=\"_parent\"><img src=\"https://colab.research.google.com/assets/colab-badge.svg\" alt=\"Open In Colab\"/></a>"
      ]
    },
    {
      "cell_type": "markdown",
      "metadata": {
        "id": "k2Fau890N-_o"
      },
      "source": [
        "**Installing dependecies**\n"
      ]
    },
    {
      "cell_type": "code",
      "metadata": {
        "id": "vwoMEnw8OIEY",
        "colab": {
          "base_uri": "https://localhost:8080/"
        },
        "outputId": "c03a218a-878f-4e55-903e-4ad5207ba4c3"
      },
      "source": [
        "!pip install torch==1.8.2+cu111 torchvision==0.9.2+cu111 torchaudio===0.8.2 -f https://download.pytorch.org/whl/lts/1.8/torch_lts.html\n",
        "!pip install transformers"
      ],
      "execution_count": null,
      "outputs": [
        {
          "output_type": "stream",
          "name": "stdout",
          "text": [
            "Looking in links: https://download.pytorch.org/whl/lts/1.8/torch_lts.html\n",
            "Collecting torch==1.8.2+cu111\n",
            "  Downloading https://download.pytorch.org/whl/lts/1.8/cu111/torch-1.8.2%2Bcu111-cp37-cp37m-linux_x86_64.whl (1982.2 MB)\n",
            "\u001b[K     |█████████████▌                  | 834.1 MB 1.7 MB/s eta 0:11:11tcmalloc: large alloc 1147494400 bytes == 0x564727706000 @  0x7fd611fa1615 0x5646ed5094cc 0x5646ed5e947a 0x5646ed50c2ed 0x5646ed5fde1d 0x5646ed57fe99 0x5646ed57a9ee 0x5646ed50dbda 0x5646ed57fd00 0x5646ed57a9ee 0x5646ed50dbda 0x5646ed57c737 0x5646ed5fec66 0x5646ed57bdaf 0x5646ed5fec66 0x5646ed57bdaf 0x5646ed5fec66 0x5646ed57bdaf 0x5646ed50e039 0x5646ed551409 0x5646ed50cc52 0x5646ed57fc25 0x5646ed57a9ee 0x5646ed50dbda 0x5646ed57c737 0x5646ed57a9ee 0x5646ed50dbda 0x5646ed57b915 0x5646ed50dafa 0x5646ed57bc0d 0x5646ed57a9ee\n",
            "\u001b[K     |█████████████████               | 1055.7 MB 34.9 MB/s eta 0:00:27tcmalloc: large alloc 1434370048 bytes == 0x56476bd5c000 @  0x7fd611fa1615 0x5646ed5094cc 0x5646ed5e947a 0x5646ed50c2ed 0x5646ed5fde1d 0x5646ed57fe99 0x5646ed57a9ee 0x5646ed50dbda 0x5646ed57fd00 0x5646ed57a9ee 0x5646ed50dbda 0x5646ed57c737 0x5646ed5fec66 0x5646ed57bdaf 0x5646ed5fec66 0x5646ed57bdaf 0x5646ed5fec66 0x5646ed57bdaf 0x5646ed50e039 0x5646ed551409 0x5646ed50cc52 0x5646ed57fc25 0x5646ed57a9ee 0x5646ed50dbda 0x5646ed57c737 0x5646ed57a9ee 0x5646ed50dbda 0x5646ed57b915 0x5646ed50dafa 0x5646ed57bc0d 0x5646ed57a9ee\n",
            "\u001b[K     |█████████████████████▋          | 1336.2 MB 1.6 MB/s eta 0:06:50tcmalloc: large alloc 1792966656 bytes == 0x5646f0b8e000 @  0x7fd611fa1615 0x5646ed5094cc 0x5646ed5e947a 0x5646ed50c2ed 0x5646ed5fde1d 0x5646ed57fe99 0x5646ed57a9ee 0x5646ed50dbda 0x5646ed57fd00 0x5646ed57a9ee 0x5646ed50dbda 0x5646ed57c737 0x5646ed5fec66 0x5646ed57bdaf 0x5646ed5fec66 0x5646ed57bdaf 0x5646ed5fec66 0x5646ed57bdaf 0x5646ed50e039 0x5646ed551409 0x5646ed50cc52 0x5646ed57fc25 0x5646ed57a9ee 0x5646ed50dbda 0x5646ed57c737 0x5646ed57a9ee 0x5646ed50dbda 0x5646ed57b915 0x5646ed50dafa 0x5646ed57bc0d 0x5646ed57a9ee\n",
            "\u001b[K     |███████████████████████████▎    | 1691.1 MB 1.4 MB/s eta 0:03:26tcmalloc: large alloc 2241208320 bytes == 0x56475b976000 @  0x7fd611fa1615 0x5646ed5094cc 0x5646ed5e947a 0x5646ed50c2ed 0x5646ed5fde1d 0x5646ed57fe99 0x5646ed57a9ee 0x5646ed50dbda 0x5646ed57fd00 0x5646ed57a9ee 0x5646ed50dbda 0x5646ed57c737 0x5646ed5fec66 0x5646ed57bdaf 0x5646ed5fec66 0x5646ed57bdaf 0x5646ed5fec66 0x5646ed57bdaf 0x5646ed50e039 0x5646ed551409 0x5646ed50cc52 0x5646ed57fc25 0x5646ed57a9ee 0x5646ed50dbda 0x5646ed57c737 0x5646ed57a9ee 0x5646ed50dbda 0x5646ed57b915 0x5646ed50dafa 0x5646ed57bc0d 0x5646ed57a9ee\n",
            "\u001b[K     |████████████████████████████████| 1982.2 MB 1.5 MB/s eta 0:00:01tcmalloc: large alloc 1982201856 bytes == 0x5647e12d8000 @  0x7fd611fa01e7 0x5646ed53f067 0x5646ed5094cc 0x5646ed5e947a 0x5646ed50c2ed 0x5646ed5fde1d 0x5646ed57fe99 0x5646ed57a9ee 0x5646ed50dbda 0x5646ed57bc0d 0x5646ed57a9ee 0x5646ed50dbda 0x5646ed57bc0d 0x5646ed57a9ee 0x5646ed50dbda 0x5646ed57bc0d 0x5646ed57a9ee 0x5646ed50dbda 0x5646ed57bc0d 0x5646ed57a9ee 0x5646ed50dbda 0x5646ed57bc0d 0x5646ed50dafa 0x5646ed57bc0d 0x5646ed57a9ee 0x5646ed50dbda 0x5646ed57c737 0x5646ed57a9ee 0x5646ed50dbda 0x5646ed57c737 0x5646ed57a9ee\n",
            "tcmalloc: large alloc 2477752320 bytes == 0x5648cb9b6000 @  0x7fd611fa1615 0x5646ed5094cc 0x5646ed5e947a 0x5646ed50c2ed 0x5646ed5fde1d 0x5646ed57fe99 0x5646ed57a9ee 0x5646ed50dbda 0x5646ed57bc0d 0x5646ed57a9ee 0x5646ed50dbda 0x5646ed57bc0d 0x5646ed57a9ee 0x5646ed50dbda 0x5646ed57bc0d 0x5646ed57a9ee 0x5646ed50dbda 0x5646ed57bc0d 0x5646ed57a9ee 0x5646ed50dbda 0x5646ed57bc0d 0x5646ed50dafa 0x5646ed57bc0d 0x5646ed57a9ee 0x5646ed50dbda 0x5646ed57c737 0x5646ed57a9ee 0x5646ed50dbda 0x5646ed57c737 0x5646ed57a9ee 0x5646ed50e271\n",
            "\u001b[K     |████████████████████████████████| 1982.2 MB 3.5 kB/s \n",
            "\u001b[?25hCollecting torchvision==0.9.2+cu111\n",
            "  Downloading https://download.pytorch.org/whl/lts/1.8/cu111/torchvision-0.9.2%2Bcu111-cp37-cp37m-linux_x86_64.whl (17.5 MB)\n",
            "\u001b[K     |████████████████████████████████| 17.5 MB 1.5 MB/s \n",
            "\u001b[?25hCollecting torchaudio===0.8.2\n",
            "  Downloading https://download.pytorch.org/whl/lts/1.8/torchaudio-0.8.2-cp37-cp37m-linux_x86_64.whl (1.9 MB)\n",
            "\u001b[K     |████████████████████████████████| 1.9 MB 35.8 MB/s \n",
            "\u001b[?25hRequirement already satisfied: numpy in /usr/local/lib/python3.7/dist-packages (from torch==1.8.2+cu111) (1.19.5)\n",
            "Requirement already satisfied: typing-extensions in /usr/local/lib/python3.7/dist-packages (from torch==1.8.2+cu111) (3.7.4.3)\n",
            "Requirement already satisfied: pillow>=4.1.1 in /usr/local/lib/python3.7/dist-packages (from torchvision==0.9.2+cu111) (7.1.2)\n",
            "Installing collected packages: torch, torchvision, torchaudio\n",
            "  Attempting uninstall: torch\n",
            "    Found existing installation: torch 1.9.0+cu111\n",
            "    Uninstalling torch-1.9.0+cu111:\n",
            "      Successfully uninstalled torch-1.9.0+cu111\n",
            "  Attempting uninstall: torchvision\n",
            "    Found existing installation: torchvision 0.10.0+cu111\n",
            "    Uninstalling torchvision-0.10.0+cu111:\n",
            "      Successfully uninstalled torchvision-0.10.0+cu111\n",
            "\u001b[31mERROR: pip's dependency resolver does not currently take into account all the packages that are installed. This behaviour is the source of the following dependency conflicts.\n",
            "torchtext 0.10.0 requires torch==1.9.0, but you have torch 1.8.2+cu111 which is incompatible.\u001b[0m\n",
            "Successfully installed torch-1.8.2+cu111 torchaudio-0.8.2 torchvision-0.9.2+cu111\n",
            "Collecting transformers\n",
            "  Downloading transformers-4.11.3-py3-none-any.whl (2.9 MB)\n",
            "\u001b[K     |████████████████████████████████| 2.9 MB 12.6 MB/s \n",
            "\u001b[?25hCollecting pyyaml>=5.1\n",
            "  Downloading PyYAML-6.0-cp37-cp37m-manylinux_2_5_x86_64.manylinux1_x86_64.manylinux_2_12_x86_64.manylinux2010_x86_64.whl (596 kB)\n",
            "\u001b[K     |████████████████████████████████| 596 kB 52.3 MB/s \n",
            "\u001b[?25hRequirement already satisfied: tqdm>=4.27 in /usr/local/lib/python3.7/dist-packages (from transformers) (4.62.3)\n",
            "Collecting tokenizers<0.11,>=0.10.1\n",
            "  Downloading tokenizers-0.10.3-cp37-cp37m-manylinux_2_5_x86_64.manylinux1_x86_64.manylinux_2_12_x86_64.manylinux2010_x86_64.whl (3.3 MB)\n",
            "\u001b[K     |████████████████████████████████| 3.3 MB 47.4 MB/s \n",
            "\u001b[?25hRequirement already satisfied: packaging>=20.0 in /usr/local/lib/python3.7/dist-packages (from transformers) (21.0)\n",
            "Collecting sacremoses\n",
            "  Downloading sacremoses-0.0.46-py3-none-any.whl (895 kB)\n",
            "\u001b[K     |████████████████████████████████| 895 kB 43.3 MB/s \n",
            "\u001b[?25hRequirement already satisfied: requests in /usr/local/lib/python3.7/dist-packages (from transformers) (2.23.0)\n",
            "Requirement already satisfied: importlib-metadata in /usr/local/lib/python3.7/dist-packages (from transformers) (4.8.1)\n",
            "Requirement already satisfied: regex!=2019.12.17 in /usr/local/lib/python3.7/dist-packages (from transformers) (2019.12.20)\n",
            "Requirement already satisfied: filelock in /usr/local/lib/python3.7/dist-packages (from transformers) (3.3.0)\n",
            "Collecting huggingface-hub>=0.0.17\n",
            "  Downloading huggingface_hub-0.0.19-py3-none-any.whl (56 kB)\n",
            "\u001b[K     |████████████████████████████████| 56 kB 3.6 MB/s \n",
            "\u001b[?25hRequirement already satisfied: numpy>=1.17 in /usr/local/lib/python3.7/dist-packages (from transformers) (1.19.5)\n",
            "Requirement already satisfied: typing-extensions in /usr/local/lib/python3.7/dist-packages (from huggingface-hub>=0.0.17->transformers) (3.7.4.3)\n",
            "Requirement already satisfied: pyparsing>=2.0.2 in /usr/local/lib/python3.7/dist-packages (from packaging>=20.0->transformers) (2.4.7)\n",
            "Requirement already satisfied: zipp>=0.5 in /usr/local/lib/python3.7/dist-packages (from importlib-metadata->transformers) (3.6.0)\n",
            "Requirement already satisfied: idna<3,>=2.5 in /usr/local/lib/python3.7/dist-packages (from requests->transformers) (2.10)\n",
            "Requirement already satisfied: urllib3!=1.25.0,!=1.25.1,<1.26,>=1.21.1 in /usr/local/lib/python3.7/dist-packages (from requests->transformers) (1.24.3)\n",
            "Requirement already satisfied: certifi>=2017.4.17 in /usr/local/lib/python3.7/dist-packages (from requests->transformers) (2021.5.30)\n",
            "Requirement already satisfied: chardet<4,>=3.0.2 in /usr/local/lib/python3.7/dist-packages (from requests->transformers) (3.0.4)\n",
            "Requirement already satisfied: click in /usr/local/lib/python3.7/dist-packages (from sacremoses->transformers) (7.1.2)\n",
            "Requirement already satisfied: joblib in /usr/local/lib/python3.7/dist-packages (from sacremoses->transformers) (1.0.1)\n",
            "Requirement already satisfied: six in /usr/local/lib/python3.7/dist-packages (from sacremoses->transformers) (1.15.0)\n",
            "Installing collected packages: pyyaml, tokenizers, sacremoses, huggingface-hub, transformers\n",
            "  Attempting uninstall: pyyaml\n",
            "    Found existing installation: PyYAML 3.13\n",
            "    Uninstalling PyYAML-3.13:\n",
            "      Successfully uninstalled PyYAML-3.13\n",
            "Successfully installed huggingface-hub-0.0.19 pyyaml-6.0 sacremoses-0.0.46 tokenizers-0.10.3 transformers-4.11.3\n"
          ]
        }
      ]
    },
    {
      "cell_type": "code",
      "metadata": {
        "id": "9C-g-ZF7giNX"
      },
      "source": [
        "from transformers import PegasusForConditionalGeneration, PegasusTokenizer"
      ],
      "execution_count": null,
      "outputs": []
    },
    {
      "cell_type": "code",
      "metadata": {
        "colab": {
          "base_uri": "https://localhost:8080/"
        },
        "id": "NQjcbtGrZYns",
        "outputId": "125fe9fc-7a25-4c18-9f64-f3b469fae934"
      },
      "source": [
        "!pip install SentencePiece"
      ],
      "execution_count": null,
      "outputs": [
        {
          "output_type": "stream",
          "name": "stdout",
          "text": [
            "Collecting SentencePiece\n",
            "  Downloading sentencepiece-0.1.96-cp37-cp37m-manylinux_2_17_x86_64.manylinux2014_x86_64.whl (1.2 MB)\n",
            "\u001b[?25l\r\u001b[K     |▎                               | 10 kB 20.6 MB/s eta 0:00:01\r\u001b[K     |▌                               | 20 kB 23.3 MB/s eta 0:00:01\r\u001b[K     |▉                               | 30 kB 21.6 MB/s eta 0:00:01\r\u001b[K     |█                               | 40 kB 17.5 MB/s eta 0:00:01\r\u001b[K     |█▍                              | 51 kB 14.5 MB/s eta 0:00:01\r\u001b[K     |█▋                              | 61 kB 12.4 MB/s eta 0:00:01\r\u001b[K     |██                              | 71 kB 12.1 MB/s eta 0:00:01\r\u001b[K     |██▏                             | 81 kB 13.3 MB/s eta 0:00:01\r\u001b[K     |██▍                             | 92 kB 14.1 MB/s eta 0:00:01\r\u001b[K     |██▊                             | 102 kB 10.9 MB/s eta 0:00:01\r\u001b[K     |███                             | 112 kB 10.9 MB/s eta 0:00:01\r\u001b[K     |███▎                            | 122 kB 10.9 MB/s eta 0:00:01\r\u001b[K     |███▌                            | 133 kB 10.9 MB/s eta 0:00:01\r\u001b[K     |███▉                            | 143 kB 10.9 MB/s eta 0:00:01\r\u001b[K     |████                            | 153 kB 10.9 MB/s eta 0:00:01\r\u001b[K     |████▎                           | 163 kB 10.9 MB/s eta 0:00:01\r\u001b[K     |████▋                           | 174 kB 10.9 MB/s eta 0:00:01\r\u001b[K     |████▉                           | 184 kB 10.9 MB/s eta 0:00:01\r\u001b[K     |█████▏                          | 194 kB 10.9 MB/s eta 0:00:01\r\u001b[K     |█████▍                          | 204 kB 10.9 MB/s eta 0:00:01\r\u001b[K     |█████▊                          | 215 kB 10.9 MB/s eta 0:00:01\r\u001b[K     |██████                          | 225 kB 10.9 MB/s eta 0:00:01\r\u001b[K     |██████▏                         | 235 kB 10.9 MB/s eta 0:00:01\r\u001b[K     |██████▌                         | 245 kB 10.9 MB/s eta 0:00:01\r\u001b[K     |██████▊                         | 256 kB 10.9 MB/s eta 0:00:01\r\u001b[K     |███████                         | 266 kB 10.9 MB/s eta 0:00:01\r\u001b[K     |███████▎                        | 276 kB 10.9 MB/s eta 0:00:01\r\u001b[K     |███████▋                        | 286 kB 10.9 MB/s eta 0:00:01\r\u001b[K     |███████▉                        | 296 kB 10.9 MB/s eta 0:00:01\r\u001b[K     |████████                        | 307 kB 10.9 MB/s eta 0:00:01\r\u001b[K     |████████▍                       | 317 kB 10.9 MB/s eta 0:00:01\r\u001b[K     |████████▋                       | 327 kB 10.9 MB/s eta 0:00:01\r\u001b[K     |█████████                       | 337 kB 10.9 MB/s eta 0:00:01\r\u001b[K     |█████████▏                      | 348 kB 10.9 MB/s eta 0:00:01\r\u001b[K     |█████████▌                      | 358 kB 10.9 MB/s eta 0:00:01\r\u001b[K     |█████████▊                      | 368 kB 10.9 MB/s eta 0:00:01\r\u001b[K     |██████████                      | 378 kB 10.9 MB/s eta 0:00:01\r\u001b[K     |██████████▎                     | 389 kB 10.9 MB/s eta 0:00:01\r\u001b[K     |██████████▌                     | 399 kB 10.9 MB/s eta 0:00:01\r\u001b[K     |██████████▉                     | 409 kB 10.9 MB/s eta 0:00:01\r\u001b[K     |███████████                     | 419 kB 10.9 MB/s eta 0:00:01\r\u001b[K     |███████████▍                    | 430 kB 10.9 MB/s eta 0:00:01\r\u001b[K     |███████████▋                    | 440 kB 10.9 MB/s eta 0:00:01\r\u001b[K     |███████████▉                    | 450 kB 10.9 MB/s eta 0:00:01\r\u001b[K     |████████████▏                   | 460 kB 10.9 MB/s eta 0:00:01\r\u001b[K     |████████████▍                   | 471 kB 10.9 MB/s eta 0:00:01\r\u001b[K     |████████████▊                   | 481 kB 10.9 MB/s eta 0:00:01\r\u001b[K     |█████████████                   | 491 kB 10.9 MB/s eta 0:00:01\r\u001b[K     |█████████████▎                  | 501 kB 10.9 MB/s eta 0:00:01\r\u001b[K     |█████████████▌                  | 512 kB 10.9 MB/s eta 0:00:01\r\u001b[K     |█████████████▊                  | 522 kB 10.9 MB/s eta 0:00:01\r\u001b[K     |██████████████                  | 532 kB 10.9 MB/s eta 0:00:01\r\u001b[K     |██████████████▎                 | 542 kB 10.9 MB/s eta 0:00:01\r\u001b[K     |██████████████▋                 | 552 kB 10.9 MB/s eta 0:00:01\r\u001b[K     |██████████████▉                 | 563 kB 10.9 MB/s eta 0:00:01\r\u001b[K     |███████████████▏                | 573 kB 10.9 MB/s eta 0:00:01\r\u001b[K     |███████████████▍                | 583 kB 10.9 MB/s eta 0:00:01\r\u001b[K     |███████████████▋                | 593 kB 10.9 MB/s eta 0:00:01\r\u001b[K     |████████████████                | 604 kB 10.9 MB/s eta 0:00:01\r\u001b[K     |████████████████▏               | 614 kB 10.9 MB/s eta 0:00:01\r\u001b[K     |████████████████▌               | 624 kB 10.9 MB/s eta 0:00:01\r\u001b[K     |████████████████▊               | 634 kB 10.9 MB/s eta 0:00:01\r\u001b[K     |█████████████████               | 645 kB 10.9 MB/s eta 0:00:01\r\u001b[K     |█████████████████▎              | 655 kB 10.9 MB/s eta 0:00:01\r\u001b[K     |█████████████████▌              | 665 kB 10.9 MB/s eta 0:00:01\r\u001b[K     |█████████████████▉              | 675 kB 10.9 MB/s eta 0:00:01\r\u001b[K     |██████████████████              | 686 kB 10.9 MB/s eta 0:00:01\r\u001b[K     |██████████████████▍             | 696 kB 10.9 MB/s eta 0:00:01\r\u001b[K     |██████████████████▋             | 706 kB 10.9 MB/s eta 0:00:01\r\u001b[K     |███████████████████             | 716 kB 10.9 MB/s eta 0:00:01\r\u001b[K     |███████████████████▏            | 727 kB 10.9 MB/s eta 0:00:01\r\u001b[K     |███████████████████▍            | 737 kB 10.9 MB/s eta 0:00:01\r\u001b[K     |███████████████████▊            | 747 kB 10.9 MB/s eta 0:00:01\r\u001b[K     |████████████████████            | 757 kB 10.9 MB/s eta 0:00:01\r\u001b[K     |████████████████████▎           | 768 kB 10.9 MB/s eta 0:00:01\r\u001b[K     |████████████████████▌           | 778 kB 10.9 MB/s eta 0:00:01\r\u001b[K     |████████████████████▉           | 788 kB 10.9 MB/s eta 0:00:01\r\u001b[K     |█████████████████████           | 798 kB 10.9 MB/s eta 0:00:01\r\u001b[K     |█████████████████████▎          | 808 kB 10.9 MB/s eta 0:00:01\r\u001b[K     |█████████████████████▋          | 819 kB 10.9 MB/s eta 0:00:01\r\u001b[K     |█████████████████████▉          | 829 kB 10.9 MB/s eta 0:00:01\r\u001b[K     |██████████████████████▏         | 839 kB 10.9 MB/s eta 0:00:01\r\u001b[K     |██████████████████████▍         | 849 kB 10.9 MB/s eta 0:00:01\r\u001b[K     |██████████████████████▊         | 860 kB 10.9 MB/s eta 0:00:01\r\u001b[K     |███████████████████████         | 870 kB 10.9 MB/s eta 0:00:01\r\u001b[K     |███████████████████████▏        | 880 kB 10.9 MB/s eta 0:00:01\r\u001b[K     |███████████████████████▌        | 890 kB 10.9 MB/s eta 0:00:01\r\u001b[K     |███████████████████████▊        | 901 kB 10.9 MB/s eta 0:00:01\r\u001b[K     |████████████████████████        | 911 kB 10.9 MB/s eta 0:00:01\r\u001b[K     |████████████████████████▎       | 921 kB 10.9 MB/s eta 0:00:01\r\u001b[K     |████████████████████████▋       | 931 kB 10.9 MB/s eta 0:00:01\r\u001b[K     |████████████████████████▉       | 942 kB 10.9 MB/s eta 0:00:01\r\u001b[K     |█████████████████████████       | 952 kB 10.9 MB/s eta 0:00:01\r\u001b[K     |█████████████████████████▍      | 962 kB 10.9 MB/s eta 0:00:01\r\u001b[K     |█████████████████████████▋      | 972 kB 10.9 MB/s eta 0:00:01\r\u001b[K     |██████████████████████████      | 983 kB 10.9 MB/s eta 0:00:01\r\u001b[K     |██████████████████████████▏     | 993 kB 10.9 MB/s eta 0:00:01\r\u001b[K     |██████████████████████████▌     | 1.0 MB 10.9 MB/s eta 0:00:01\r\u001b[K     |██████████████████████████▊     | 1.0 MB 10.9 MB/s eta 0:00:01\r\u001b[K     |███████████████████████████     | 1.0 MB 10.9 MB/s eta 0:00:01\r\u001b[K     |███████████████████████████▎    | 1.0 MB 10.9 MB/s eta 0:00:01\r\u001b[K     |███████████████████████████▌    | 1.0 MB 10.9 MB/s eta 0:00:01\r\u001b[K     |███████████████████████████▉    | 1.1 MB 10.9 MB/s eta 0:00:01\r\u001b[K     |████████████████████████████    | 1.1 MB 10.9 MB/s eta 0:00:01\r\u001b[K     |████████████████████████████▍   | 1.1 MB 10.9 MB/s eta 0:00:01\r\u001b[K     |████████████████████████████▋   | 1.1 MB 10.9 MB/s eta 0:00:01\r\u001b[K     |████████████████████████████▉   | 1.1 MB 10.9 MB/s eta 0:00:01\r\u001b[K     |█████████████████████████████▏  | 1.1 MB 10.9 MB/s eta 0:00:01\r\u001b[K     |█████████████████████████████▍  | 1.1 MB 10.9 MB/s eta 0:00:01\r\u001b[K     |█████████████████████████████▊  | 1.1 MB 10.9 MB/s eta 0:00:01\r\u001b[K     |██████████████████████████████  | 1.1 MB 10.9 MB/s eta 0:00:01\r\u001b[K     |██████████████████████████████▎ | 1.1 MB 10.9 MB/s eta 0:00:01\r\u001b[K     |██████████████████████████████▌ | 1.2 MB 10.9 MB/s eta 0:00:01\r\u001b[K     |██████████████████████████████▊ | 1.2 MB 10.9 MB/s eta 0:00:01\r\u001b[K     |███████████████████████████████ | 1.2 MB 10.9 MB/s eta 0:00:01\r\u001b[K     |███████████████████████████████▎| 1.2 MB 10.9 MB/s eta 0:00:01\r\u001b[K     |███████████████████████████████▋| 1.2 MB 10.9 MB/s eta 0:00:01\r\u001b[K     |███████████████████████████████▉| 1.2 MB 10.9 MB/s eta 0:00:01\r\u001b[K     |████████████████████████████████| 1.2 MB 10.9 MB/s \n",
            "\u001b[?25hInstalling collected packages: SentencePiece\n",
            "Successfully installed SentencePiece-0.1.96\n"
          ]
        }
      ]
    },
    {
      "cell_type": "code",
      "metadata": {
        "id": "9H7W63D2SMEh"
      },
      "source": [
        "\n",
        "tokenizer = PegasusTokenizer.from_pretrained(\"google/pegasus-xsum\")"
      ],
      "execution_count": null,
      "outputs": []
    },
    {
      "cell_type": "code",
      "metadata": {
        "colab": {
          "base_uri": "https://localhost:8080/",
          "height": 81,
          "referenced_widgets": [
            "85e552ec6a8b42a799ddfe1f36867f81",
            "29aeb039fc4a4b819ede132bd5a01ee5",
            "eced1059f2af45a1b756fbc564aa3acb",
            "2bed0ca9c808454d8b8bfd2ff73582b5",
            "24d3089be5f2443b838a81ed03618a3d",
            "dda8c8f32a1a433e9e271b7dab4cd8e8",
            "050f8d85a45848e090d181866a79d8af",
            "8414503d6d7949ca80c7a13c08b4eb65",
            "340e638a16eb48658252ad36b2179648",
            "d780cd39becc4e40a6be03e13caf2ce9",
            "93302791686541df895feee2e6287978",
            "e86a1d25bb794f7892e5c56da2f681af",
            "8c28159d33ff452ba2ba28619d8af86b",
            "1a79c76820534da58ace7f5bdbf5829e",
            "b6f22190a0d7422b977e1dd61ef26ccf",
            "953560c11fa7484ca17390c244502fa0",
            "0758bad5b84846d487e59b97eddabd4d",
            "d5761fb663a2497291532f94e3029b4d",
            "19ee703742194d6bbf000e82a7e8c6e2",
            "da2e0b3269f7449d8bbdc8b7c944d202",
            "c2b44c2d1f2a429b92760a5f3397ed57",
            "39ad545ac7784d33a9acbc3d3d2f0ce7"
          ]
        },
        "id": "e3rpoZc34dKe",
        "outputId": "4c1ae101-a77e-49a6-afbc-240f9799cd1f"
      },
      "source": [
        "\n",
        "model = PegasusForConditionalGeneration.from_pretrained(\"google/pegasus-xsum\")"
      ],
      "execution_count": null,
      "outputs": [
        {
          "output_type": "display_data",
          "data": {
            "application/vnd.jupyter.widget-view+json": {
              "model_id": "85e552ec6a8b42a799ddfe1f36867f81",
              "version_minor": 0,
              "version_major": 2
            },
            "text/plain": [
              "Downloading:   0%|          | 0.00/1.36k [00:00<?, ?B/s]"
            ]
          },
          "metadata": {}
        },
        {
          "output_type": "display_data",
          "data": {
            "application/vnd.jupyter.widget-view+json": {
              "model_id": "e86a1d25bb794f7892e5c56da2f681af",
              "version_minor": 0,
              "version_major": 2
            },
            "text/plain": [
              "Downloading:   0%|          | 0.00/2.12G [00:00<?, ?B/s]"
            ]
          },
          "metadata": {}
        }
      ]
    },
    {
      "cell_type": "code",
      "metadata": {
        "id": "Me71p3lpZRNQ"
      },
      "source": [
        "text = \"\"\"Machine learning is the study of computer algorithms that can improve automatically through experience and by the use of data. It is seen as a part of artificial intelligence.\"\"\""
      ],
      "execution_count": null,
      "outputs": []
    },
    {
      "cell_type": "code",
      "metadata": {
        "id": "DqMTU6nScRjY"
      },
      "source": [
        "tokens = tokenizer(text, truncation=True, padding=\"longest\", return_tensors=\"pt\")"
      ],
      "execution_count": null,
      "outputs": []
    },
    {
      "cell_type": "code",
      "metadata": {
        "id": "jyTBy6e-ctaG"
      },
      "source": [
        "tokens"
      ],
      "execution_count": null,
      "outputs": []
    },
    {
      "cell_type": "code",
      "metadata": {
        "id": "eLu7D1iHmcQ6"
      },
      "source": [
        "summary = model.generate(**tokens)"
      ],
      "execution_count": null,
      "outputs": []
    },
    {
      "cell_type": "code",
      "metadata": {
        "id": "WtIbaJqvmgNA"
      },
      "source": [
        "tokenizer.decode(summary[0])"
      ],
      "execution_count": null,
      "outputs": []
    },
    {
      "cell_type": "code",
      "metadata": {
        "id": "ZxsnrCUBBB2N"
      },
      "source": [
        ""
      ],
      "execution_count": null,
      "outputs": []
    }
  ]
}